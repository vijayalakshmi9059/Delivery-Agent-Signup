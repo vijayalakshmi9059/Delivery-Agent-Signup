{
 "cells": [
  {
   "cell_type": "code",
   "execution_count": 3,
   "id": "82d2ee97",
   "metadata": {},
   "outputs": [
    {
     "name": "stdout",
     "output_type": "stream",
     "text": [
      "Requirement already satisfied: flask in c:\\users\\vinny\\anaconda3\\lib\\site-packages (1.1.2)\n",
      "Requirement already satisfied: Jinja2>=2.10.1 in c:\\users\\vinny\\anaconda3\\lib\\site-packages (from flask) (2.11.3)\n",
      "Requirement already satisfied: click>=5.1 in c:\\users\\vinny\\anaconda3\\lib\\site-packages (from flask) (7.1.2)\n",
      "Requirement already satisfied: itsdangerous>=0.24 in c:\\users\\vinny\\anaconda3\\lib\\site-packages (from flask) (1.1.0)\n",
      "Requirement already satisfied: Werkzeug>=0.15 in c:\\users\\vinny\\anaconda3\\lib\\site-packages (from flask) (1.0.1)\n",
      "Requirement already satisfied: MarkupSafe>=0.23 in c:\\users\\vinny\\anaconda3\\lib\\site-packages (from Jinja2>=2.10.1->flask) (1.1.1)\n",
      "Note: you may need to restart the kernel to use updated packages.\n"
     ]
    }
   ],
   "source": [
    "pip install flask"
   ]
  },
  {
   "cell_type": "code",
   "execution_count": null,
   "id": "0c7ad3aa",
   "metadata": {},
   "outputs": [],
   "source": [
    "from flask import Flask, render_template, request\n",
    "app = Flask(__name__)\n",
    "@app.route('/delivery_agent_signup', methods=['GET', 'POST'])\n",
    "def delivery_agent_signup():\n",
    "    if request.method == 'POST':\n",
    "        name = request.form['name']\n",
    "        mobile_number = request.form['mobile_number']\n",
    "        email = request.form['email']\n",
    "        password = request.form['password']\n",
    "        address = request.form['address']\n",
    "        pincode = request.form['pincode']\n",
    "        city = request.form['city']\n",
    "        dob = request.form['dob']\n",
    "        longitude = request.form['longitude']\n",
    "        latitude = request.form['latitude']\n",
    "        delivery_mode = request.form['delivery_mode']\n",
    "        payment_method = request.form['payment_method']\n",
    "        feedback = request.form['feedback']\n",
    "        return f\"Thank you for signing up, {name}!\"\n",
    "    return render_template('delivery_agent_signup.html')\n",
    "if __name__ == '__main__':\n",
    "    app.run(debug=True)"
   ]
  },
  {
   "cell_type": "code",
   "execution_count": null,
   "id": "fc1c928b",
   "metadata": {},
   "outputs": [],
   "source": []
  }
 ],
 "metadata": {
  "kernelspec": {
   "display_name": "Python 3",
   "language": "python",
   "name": "python3"
  },
  "language_info": {
   "codemirror_mode": {
    "name": "ipython",
    "version": 3
   },
   "file_extension": ".py",
   "mimetype": "text/x-python",
   "name": "python",
   "nbconvert_exporter": "python",
   "pygments_lexer": "ipython3",
   "version": "3.8.8"
  }
 },
 "nbformat": 4,
 "nbformat_minor": 5
}
